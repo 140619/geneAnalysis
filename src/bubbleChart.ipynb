{
 "cells": [
  {
   "cell_type": "code",
   "execution_count": 2,
   "id": "31c969fb",
   "metadata": {},
   "outputs": [
    {
     "name": "stdout",
     "output_type": "stream",
     "text": [
      "0                             0000278~mitotic cell cycle\n",
      "1                                  0051301~cell division\n",
      "2                      0007017~microtubule-based process\n",
      "3          0000226~microtubule cytoskeleton organization\n",
      "4           0000070~mitotic sister chromatid segregation\n",
      "                             ...                        \n",
      "122                           0051321~meiotic cell cycle\n",
      "123    0033962~cytoplasmic mRNA processing body assembly\n",
      "124                             0048511~rhythmic process\n",
      "125    0016446~somatic hypermutation of immunoglobuli...\n",
      "126    0031110~regulation of microtubule polymerizati...\n",
      "Name: Term, Length: 127, dtype: object\n"
     ]
    }
   ],
   "source": [
    "import pandas as pd\n",
    "import numpy as np\n",
    "from numpy import log10\n",
    "import matplotlib\n",
    "from plotnine import *\n",
    "from plotnine import ggplot, geom_point, aes, stat_smooth, facet_wrap\n",
    "from plotnine.data import mtcars\n",
    "\n",
    "\n",
    "matplotlib.rcParams['font.sans-serif']=['SimHei'] #用来正常显示中文标签\n",
    "matplotlib.rcParams['axes.unicode_minus']=False #用来正常显示负号\n",
    "\n",
    "filePath = r'F:\\geneAnalysis\\Documents\\GO-BP-KIF.txt'\n",
    "\n",
    "def read_txt(filePath):\n",
    "    df = pd.read_table(filePath)\n",
    "    df.head(5)\n",
    "    df['PValue'] = df['PValue'].apply(np.log10).apply(np.negative)  # -log10(PValue)\n",
    "    df['Term'] = df['Term'].apply(lambda x: x.split(':')[1])\n",
    "    print(df['Term'])\n",
    "    df = df.loc[:, ['Fold Enrichment', 'PValue', 'Count', 'Term']]\n",
    "#     print(df.head(100))\n",
    "    return df\n",
    "\n",
    "\n",
    "df = read_txt(filePath)"
   ]
  },
  {
   "cell_type": "code",
   "execution_count": null,
   "id": "d581197e",
   "metadata": {},
   "outputs": [],
   "source": [
    "(\n",
    "ggplot(df, aes('Fold Enrichment', 'PValue', color='PValue', size = 'Count'))\n",
    "+ geom_point()\n",
    "# + geom_text(aes(label = 'Term'),va = 'top', ha = 'left', nudge_y = 0.3, nudge_x = 0.3, size = 6, alpha = 0.5)\n",
    "+ theme(legend_key = element_blank())\n",
    "# + labs(\n",
    "#     x=\"Fold Enrichment\",\n",
    "#     y=\"PValue\",\n",
    "#     # title=\"经济增长与期望寿命\",\n",
    "#     # subtitle=\"数据点为每个国家每年\",\n",
    "#     # caption=\"数据来源: gapminder\"\n",
    "# )\n",
    ")"
   ]
  }
 ],
 "metadata": {
  "kernelspec": {
   "display_name": "Python [conda env:AI]",
   "language": "python",
   "name": "conda-env-AI-py"
  },
  "language_info": {
   "codemirror_mode": {
    "name": "ipython",
    "version": 3
   },
   "file_extension": ".py",
   "mimetype": "text/x-python",
   "name": "python",
   "nbconvert_exporter": "python",
   "pygments_lexer": "ipython3",
   "version": "3.8.11"
  }
 },
 "nbformat": 4,
 "nbformat_minor": 5
}
